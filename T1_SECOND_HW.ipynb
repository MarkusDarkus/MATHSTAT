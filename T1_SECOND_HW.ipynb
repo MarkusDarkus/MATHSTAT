{
 "cells": [
  {
   "cell_type": "markdown",
   "id": "5c6df6de",
   "metadata": {},
   "source": [
    "# Генерация данных"
   ]
  },
  {
   "cell_type": "code",
   "execution_count": 2,
   "id": "c10cc072",
   "metadata": {},
   "outputs": [],
   "source": [
    "import numpy as np\n",
    "import pandas as pd\n",
    "import statsmodels.api as sm\n",
    "from statsmodels.stats.outliers_influence import variance_inflation_factor\n",
    "from sklearn.linear_model import LinearRegression\n",
    "from sklearn.model_selection import cross_val_score\n",
    "import matplotlib.pyplot as plt\n",
    "import seaborn as sns\n",
    "from scipy import stats\n",
    "\n",
    "# Генерация данных\n",
    "np.random.seed(42)\n",
    "n = 50\n",
    "xi = np.random.uniform(-1, 1, size=(n, 5))\n",
    "eta = 2 + 3*xi[:,0] - 2*xi[:,1] + xi[:,2] + xi[:,3] - xi[:,4] + np.random.normal(0, 1.5, n)\n",
    "\n",
    "# Создаем DataFrame\n",
    "df = pd.DataFrame(xi, columns=[f'xi_{i+1}' for i in range(5)])\n",
    "df['eta'] = eta"
   ]
  },
  {
   "cell_type": "markdown",
   "id": "747afe23",
   "metadata": {},
   "source": [
    "# a) Проверка на мультиколлинеарность\n",
    "Вычислим VIF (фактор инфляции дисперсии) для каждой переменной:"
   ]
  },
  {
   "cell_type": "code",
   "execution_count": 3,
   "id": "a778a107",
   "metadata": {},
   "outputs": [
    {
     "name": "stdout",
     "output_type": "stream",
     "text": [
      "  Variable       VIF\n",
      "0    const  1.033919\n",
      "1     xi_1  1.132717\n",
      "2     xi_2  1.128598\n",
      "3     xi_3  1.166743\n",
      "4     xi_4  1.048299\n",
      "5     xi_5  1.111116\n"
     ]
    }
   ],
   "source": [
    "# Добавляем константу для расчета VIF\n",
    "X = sm.add_constant(df[[f'xi_{i+1}' for i in range(5)]])\n",
    "\n",
    "# Вычисляем VIF\n",
    "vif_data = pd.DataFrame()\n",
    "vif_data[\"Variable\"] = X.columns\n",
    "vif_data[\"VIF\"] = [variance_inflation_factor(X.values, i) for i in range(X.shape[1])]\n",
    "print(vif_data)"
   ]
  },
  {
   "cell_type": "markdown",
   "id": "154afed8",
   "metadata": {},
   "source": [
    "### Мультиколлинеарность отсутствует (VIF < 5)"
   ]
  },
  {
   "cell_type": "markdown",
   "id": "1a31ba56",
   "metadata": {},
   "source": [
    "# b) Уравнение линейной регрессии и проверка значимости коэффициентов"
   ]
  },
  {
   "cell_type": "code",
   "execution_count": 4,
   "id": "d62c3994",
   "metadata": {},
   "outputs": [
    {
     "name": "stdout",
     "output_type": "stream",
     "text": [
      "                            OLS Regression Results                            \n",
      "==============================================================================\n",
      "Dep. Variable:                    eta   R-squared:                       0.626\n",
      "Model:                            OLS   Adj. R-squared:                  0.584\n",
      "Method:                 Least Squares   F-statistic:                     14.75\n",
      "Date:                Fri, 02 May 2025   Prob (F-statistic):           1.70e-08\n",
      "Time:                        15:01:59   Log-Likelihood:                -94.738\n",
      "No. Observations:                  50   AIC:                             201.5\n",
      "Df Residuals:                      44   BIC:                             212.9\n",
      "Df Model:                           5                                         \n",
      "Covariance Type:            nonrobust                                         \n",
      "==============================================================================\n",
      "                 coef    std err          t      P>|t|      [0.025      0.975]\n",
      "------------------------------------------------------------------------------\n",
      "const          2.0699      0.247      8.390      0.000       1.573       2.567\n",
      "xi_1           2.7552      0.436      6.321      0.000       1.877       3.634\n",
      "xi_2          -2.1409      0.447     -4.788      0.000      -3.042      -1.240\n",
      "xi_3           1.0096      0.436      2.314      0.025       0.130       1.889\n",
      "xi_4           0.7684      0.411      1.871      0.068      -0.059       1.596\n",
      "xi_5          -1.2105      0.435     -2.780      0.008      -2.088      -0.333\n",
      "==============================================================================\n",
      "Omnibus:                        5.367   Durbin-Watson:                   1.981\n",
      "Prob(Omnibus):                  0.068   Jarque-Bera (JB):                4.395\n",
      "Skew:                           0.531   Prob(JB):                        0.111\n",
      "Kurtosis:                       3.991   Cond. No.                         2.18\n",
      "==============================================================================\n",
      "\n",
      "Notes:\n",
      "[1] Standard Errors assume that the covariance matrix of the errors is correctly specified.\n",
      "\n",
      "Значимые коэффициенты (p < 0.05):\n",
      "const    1.117130e-10\n",
      "xi_1     1.138654e-07\n",
      "xi_2     1.933163e-05\n",
      "xi_3     2.537805e-02\n",
      "xi_5     7.968311e-03\n",
      "dtype: float64\n"
     ]
    }
   ],
   "source": [
    "# Построение модели\n",
    "model = sm.OLS(df['eta'], X).fit()\n",
    "print(model.summary())\n",
    "\n",
    "# Проверка значимости коэффициентов (p-value < 0.05)\n",
    "print(\"\\nЗначимые коэффициенты (p < 0.05):\")\n",
    "print(model.pvalues[model.pvalues < 0.05])"
   ]
  },
  {
   "cell_type": "markdown",
   "id": "dbdbebe2",
   "metadata": {},
   "source": [
    "# c) Коэффициент детерминации и его значимость"
   ]
  },
  {
   "cell_type": "code",
   "execution_count": 8,
   "id": "8a1c5c97",
   "metadata": {},
   "outputs": [
    {
     "name": "stdout",
     "output_type": "stream",
     "text": [
      "\n",
      "R² = 0.626\n",
      "Adjusted R² = 0.584\n",
      "F-statistic = 14.75, p-value = 0.00000001703381653768\n"
     ]
    }
   ],
   "source": [
    "print(f\"\\nR² = {model.rsquared:.3f}\")\n",
    "print(f\"Adjusted R² = {model.rsquared_adj:.3f}\")\n",
    "\n",
    "# F-тест на значимость R²\n",
    "print(f\"F-statistic = {model.fvalue:.2f}, p-value = {model.f_pvalue:.20f}\")"
   ]
  },
  {
   "cell_type": "markdown",
   "id": "a8ee56bd",
   "metadata": {},
   "source": [
    "# d) Прогноз в точке Xk=0 и доверительный интервал"
   ]
  },
  {
   "cell_type": "code",
   "execution_count": 9,
   "id": "f007bf87",
   "metadata": {},
   "outputs": [
    {
     "name": "stdout",
     "output_type": "stream",
     "text": [
      "\n",
      "Прогноз в точке 0: 2.07\n",
      "95% доверительный интервал: [1.57271644 2.56709238]\n"
     ]
    }
   ],
   "source": [
    "# Точка для прогноза\n",
    "point = pd.DataFrame([[0]*5], columns=[f'xi_{i+1}' for i in range(5)])\n",
    "point = sm.add_constant(point)\n",
    "\n",
    "# Прогноз и доверительный интервал\n",
    "pred = model.get_prediction(point)\n",
    "print(f\"\\nПрогноз в точке 0: {pred.predicted_mean[0]:.2f}\")\n",
    "print(f\"95% доверительный интервал: {pred.conf_int()[0]}\")"
   ]
  },
  {
   "cell_type": "markdown",
   "id": "afbfd667",
   "metadata": {},
   "source": [
    "# e) Проверка независимости ошибок (тест Дарбина-Уотсона)"
   ]
  },
  {
   "cell_type": "code",
   "execution_count": 10,
   "id": "a40b0e02",
   "metadata": {},
   "outputs": [
    {
     "name": "stdout",
     "output_type": "stream",
     "text": [
      "\n",
      "Тест Дарбина-Уотсона: 1.98\n"
     ]
    }
   ],
   "source": [
    "print(f\"\\nТест Дарбина-Уотсона: {sm.stats.durbin_watson(model.resid):.2f}\")"
   ]
  },
  {
   "cell_type": "markdown",
   "id": "33c565f4",
   "metadata": {},
   "source": [
    "# f) Проверка нормальности ошибок (тест Шапиро-Уилка)"
   ]
  },
  {
   "cell_type": "code",
   "execution_count": 11,
   "id": "50846908",
   "metadata": {},
   "outputs": [
    {
     "name": "stdout",
     "output_type": "stream",
     "text": [
      "\n",
      "Тест Шапиро-Уилка: W = 0.963, p = 0.122\n"
     ]
    }
   ],
   "source": [
    "shapiro_test = stats.shapiro(model.resid)\n",
    "print(f\"\\nТест Шапиро-Уилка: W = {shapiro_test[0]:.3f}, p = {shapiro_test[1]:.3f}\")"
   ]
  },
  {
   "cell_type": "markdown",
   "id": "790cba8e",
   "metadata": {},
   "source": [
    "# g) Исследование на выбросы"
   ]
  },
  {
   "cell_type": "code",
   "execution_count": 12,
   "id": "af4addee",
   "metadata": {},
   "outputs": [
    {
     "data": {
      "image/png": "[encoded data removed]",
      "text/plain": [
       "<Figure size 1000x600 with 1 Axes>"
      ]
     },
     "metadata": {},
     "output_type": "display_data"
    }
   ],
   "source": [
    "# График остатков\n",
    "plt.figure(figsize=(10, 6))\n",
    "sns.residplot(x=model.fittedvalues, y=model.resid, lowess=True)\n",
    "plt.xlabel(\"Предсказанные значения\")\n",
    "plt.ylabel(\"Остатки\")\n",
    "plt.title(\"График остатков\")\n",
    "plt.show()"
   ]
  },
  {
   "cell_type": "markdown",
   "id": "4ddd16f6",
   "metadata": {},
   "source": [
    "# h) Кросс-проверка"
   ]
  },
  {
   "cell_type": "code",
   "execution_count": 13,
   "id": "e0192e0c",
   "metadata": {},
   "outputs": [
    {
     "name": "stdout",
     "output_type": "stream",
     "text": [
      "\n",
      "Средний R² кросс-валидации: 0.543\n"
     ]
    }
   ],
   "source": [
    "lr = LinearRegression()\n",
    "scores = cross_val_score(lr, df[[f'xi_{i+1}' for i in range(5)]], df['eta'], cv=5)\n",
    "print(f\"\\nСредний R² кросс-валидации: {np.mean(scores):.3f}\")"
   ]
  },
  {
   "cell_type": "markdown",
   "id": "566bf175",
   "metadata": {},
   "source": [
    "# i) Проверка адекватности (5 повторных измерений)"
   ]
  },
  {
   "cell_type": "code",
   "execution_count": 14,
   "id": "87e5e05b",
   "metadata": {},
   "outputs": [
    {
     "name": "stdout",
     "output_type": "stream",
     "text": [
      "\n",
      "Предсказания для повторных измерений: 0    2.069904\n",
      "1    2.069904\n",
      "2    2.069904\n",
      "3    2.069904\n",
      "4    2.069904\n",
      "dtype: float64\n"
     ]
    }
   ],
   "source": [
    "# Генерация 5 измерений в одной точке\n",
    "point_data = pd.DataFrame([[0]*5]*5, columns=[f'xi_{i+1}' for i in range(5)])\n",
    "point_data['eta'] = 2 + np.random.normal(0, 1.5, 5)\n",
    "\n",
    "# Проверка предсказаний\n",
    "preds = model.predict(sm.add_constant(point_data.drop('eta', axis=1)))\n",
    "print(f\"\\nПредсказания для повторных измерений: {preds}\")"
   ]
  },
  {
   "cell_type": "markdown",
   "id": "124fee51",
   "metadata": {},
   "source": [
    "# j) Удаление наименее значимой переменной"
   ]
  },
  {
   "cell_type": "code",
   "execution_count": 15,
   "id": "482040ca",
   "metadata": {},
   "outputs": [
    {
     "name": "stdout",
     "output_type": "stream",
     "text": [
      "\n",
      "Удаляем переменную: xi_4\n",
      "                            OLS Regression Results                            \n",
      "==============================================================================\n",
      "Dep. Variable:                    eta   R-squared:                       0.597\n",
      "Model:                            OLS   Adj. R-squared:                  0.561\n",
      "Method:                 Least Squares   F-statistic:                     16.64\n",
      "Date:                Fri, 02 May 2025   Prob (F-statistic):           1.94e-08\n",
      "Time:                        15:06:08   Log-Likelihood:                -96.652\n",
      "No. Observations:                  50   AIC:                             203.3\n",
      "Df Residuals:                      45   BIC:                             212.9\n",
      "Df Model:                           4                                         \n",
      "Covariance Type:            nonrobust                                         \n",
      "==============================================================================\n",
      "                 coef    std err          t      P>|t|      [0.025      0.975]\n",
      "------------------------------------------------------------------------------\n",
      "const          2.0714      0.253      8.172      0.000       1.561       2.582\n",
      "xi_1           2.7487      0.448      6.138      0.000       1.847       3.651\n",
      "xi_2          -2.0720      0.458     -4.526      0.000      -2.994      -1.150\n",
      "xi_3           0.9761      0.448      2.180      0.035       0.074       1.878\n",
      "xi_5          -1.0390      0.437     -2.376      0.022      -1.920      -0.158\n",
      "==============================================================================\n",
      "Omnibus:                        3.103   Durbin-Watson:                   2.041\n",
      "Prob(Omnibus):                  0.212   Jarque-Bera (JB):                2.083\n",
      "Skew:                           0.377   Prob(JB):                        0.353\n",
      "Kurtosis:                       3.657   Cond. No.                         2.12\n",
      "==============================================================================\n",
      "\n",
      "Notes:\n",
      "[1] Standard Errors assume that the covariance matrix of the errors is correctly specified.\n"
     ]
    }
   ],
   "source": [
    "# Находим наименее значимую переменную\n",
    "least_significant = model.pvalues[1:].idxmax()\n",
    "print(f\"\\nУдаляем переменную: {least_significant}\")\n",
    "\n",
    "# Новая модель\n",
    "new_X = X.drop(least_significant, axis=1)\n",
    "new_model = sm.OLS(df['eta'], new_X).fit()\n",
    "print(new_model.summary())"
   ]
  },
  {
   "cell_type": "markdown",
   "id": "04a9b51b",
   "metadata": {},
   "source": [
    "# k) Сравнение моделей бутстрапом"
   ]
  },
  {
   "cell_type": "code",
   "execution_count": 16,
   "id": "4b580fad",
   "metadata": {},
   "outputs": [
    {
     "data": {
      "image/png": "[encoded data removed]",
      "text/plain": [
       "<Figure size 1000x600 with 1 Axes>"
      ]
     },
     "metadata": {},
     "output_type": "display_data"
    }
   ],
   "source": [
    "# Функция для бутстрапа\n",
    "def bootstrap_compare(models, X, y, n_boot=1000):\n",
    "    coefs = {name: [] for name in models}\n",
    "    for _ in range(n_boot):\n",
    "        idx = np.random.choice(len(y), len(y), replace=True)\n",
    "        for name, model in models.items():\n",
    "            m = model.fit(X.iloc[idx], y.iloc[idx])\n",
    "            coefs[name].append(m.coef_)\n",
    "    \n",
    "    # Визуализация\n",
    "    plt.figure(figsize=(10, 6))\n",
    "    for i, (name, values) in enumerate(coefs.items()):\n",
    "        sns.kdeplot(np.array(values)[:,1], label=f\"{name} (xi_1)\")\n",
    "    plt.legend()\n",
    "    plt.show()\n",
    "\n",
    "# Сравнение моделей\n",
    "models = {\n",
    "    \"Полная\": LinearRegression(),\n",
    "    \"Упрощенная\": LinearRegression()\n",
    "}\n",
    "bootstrap_compare(models, X.drop('const', axis=1), df['eta'])"
   ]
  },
  {
   "cell_type": "markdown",
   "id": "01e7d7a6",
   "metadata": {},
   "source": [
    "# Итоговые выводы:\n",
    "* Мультиколлинеарность отсутствует (VIF < 5)\n",
    "\n",
    "* Все коэффициенты, кроме ξ4, значимы (p < 0.05)\n",
    "\n",
    "* Модель объясняет около 62% дисперсии (R² = 0.626)\n",
    "\n",
    "* Ошибки независимы (тест Дарбина-Уотсона ≈ 2) и нормально распределены (Шапиро_Уилка)\n",
    "\n",
    "* После удаления наименее значимой переменной качество модели практически не изменилось"
   ]
  },
  {
   "cell_type": "markdown",
   "id": "fbbfe764",
   "metadata": {},
   "source": []
  }
 ],
 "metadata": {
  "kernelspec": {
   "display_name": "Python 3",
   "language": "python",
   "name": "python3"
  },
  "language_info": {
   "codemirror_mode": {
    "name": "ipython",
    "version": 3
   },
   "file_extension": ".py",
   "mimetype": "text/x-python",
   "name": "python",
   "nbconvert_exporter": "python",
   "pygments_lexer": "ipython3",
   "version": "3.9.6"
  }
 },
 "nbformat": 4,
 "nbformat_minor": 5
}
