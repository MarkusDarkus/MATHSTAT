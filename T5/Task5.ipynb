{
 "cells": [
  {
   "cell_type": "code",
   "execution_count": 56,
   "metadata": {},
   "outputs": [],
   "source": [
    "import numpy as np\n",
    "import matplotlib.pyplot as plt\n",
    "from scipy.stats import moment "
   ]
  },
  {
   "cell_type": "code",
   "execution_count": 57,
   "metadata": {},
   "outputs": [],
   "source": [
    "N = 100\n",
    "tetha = 13\n",
    "np.random.seed(42)\n",
    "X = np.random.randint(tetha, 2 * tetha, N)\n",
    "tetha_estimate = 2 / 3 * (np.sum(X) / N)"
   ]
  },
  {
   "cell_type": "code",
   "execution_count": 58,
   "metadata": {},
   "outputs": [
    {
     "name": "stdout",
     "output_type": "stream",
     "text": [
      "Точный интервал:  [ 12.502 , 12.731 ]\n",
      "Размах =  0.229\n"
     ]
    }
   ],
   "source": [
    "a = 0.05\n",
    "\n",
    "left0 = round(np.max(X) / (1 + (1 - a / 2) ** (1 / N)), 3)\n",
    "right0 = round(np.max(X) / (1 + (a / 2) ** (1 / N)), 3)\n",
    "print(\"Точный интервал: \", \"[\", left0, ',', right0, ']')\n",
    "print(\"Размах = \", round(right0 - left0, 3))"
   ]
  },
  {
   "cell_type": "code",
   "execution_count": 59,
   "metadata": {},
   "outputs": [
    {
     "name": "stdout",
     "output_type": "stream",
     "text": [
      "Асимптотический интервал: [ 12.375 ,  13.319 ]\n",
      "Размах =  0.944\n"
     ]
    }
   ],
   "source": [
    "XX = X ** 2\n",
    "left1 = round(-1.96 * (2 / 3) / 10 * np.sqrt(0.01 * np.sum(XX) - (0.01 * np.sum(X)) ** 2) + tetha_estimate, 3)\n",
    "right1 = round(1.96 * (2 / 3) / 10 * np.sqrt(0.01 * np.sum(XX) - (0.01 * np.sum(X)) ** 2) + tetha_estimate, 3)\n",
    "print(\"Асимптотический интервал: [\", left1, ', ', right1, ']')\n",
    "print(\"Размах = \", round(right1 - left1, 3))"
   ]
  },
  {
   "cell_type": "code",
   "execution_count": 60,
   "metadata": {},
   "outputs": [
    {
     "name": "stdout",
     "output_type": "stream",
     "text": [
      "Бутстраповский интервал: [ 12.353 ,  13.307 ]\n",
      "Размах =  0.954\n"
     ]
    }
   ],
   "source": [
    "M = np.array([])\n",
    "for i in range(1000):\n",
    "    M = np.append(M, 2 / 3 * np.mean(np.random.choice(X, size = len(X))) - 2 / 3 * np.mean(X))\n",
    "\n",
    "M = np.sort(M)\n",
    "\n",
    "left2 = round(2 / 3 * np.mean(X) + M[24], 3)\n",
    "right2 = round(2 / 3 * np.mean(X) + M[974], 3)\n",
    "\n",
    "print(\"Бутстраповский интервал: [\", left2, ', ', right2, ']')\n",
    "print(\"Размах = \", round(right2 - left2, 3))"
   ]
  },
  {
   "cell_type": "code",
   "execution_count": 61,
   "metadata": {},
   "outputs": [
    {
     "data": {
      "image/png": "[encoded data removed]",
      "text/plain": [
       "<Figure size 1000x600 with 1 Axes>"
      ]
     },
     "metadata": {},
     "output_type": "display_data"
    }
   ],
   "source": [
    "# Генерация данных\n",
    "import numpy as np\n",
    "import matplotlib.pyplot as plt\n",
    "x1 = np.linspace(left0, right0, 100)\n",
    "y1 = [1] * 100\n",
    "\n",
    "x2 = np.linspace(left1, right1, 100)\n",
    "y2 = [2] * 100\n",
    "\n",
    "x3 = np.linspace(left2, right2, 100)\n",
    "y3 = [3] * 100\n",
    "\n",
    "# Настройка стиля графика\n",
    "plt.figure(figsize=(10, 6))\n",
    "plt.xlim(min(left0, left1, left2), max(right0, right1, right2))\n",
    "# Построение интервалов с разными стилями\n",
    "plt.plot(x1, y1, \n",
    "         color='#1f77b4', \n",
    "         linewidth=3, \n",
    "         label=\"Точный\")\n",
    "\n",
    "plt.plot(x2, y2, \n",
    "         color='#ff7f0e', \n",
    "         linewidth=3, \n",
    "         label=\"Асимптотический\")\n",
    "\n",
    "plt.plot(x3, y3, \n",
    "         color='#2ca02c', \n",
    "         linewidth=3, \n",
    "         label=\"Бутстрап\")\n",
    "\n",
    "# Настройка осей\n",
    "plt.xticks(np.arange(0, 21, 2), \n",
    "          fontsize=10, \n",
    "          rotation=45)\n",
    "plt.xlabel('Значения параметра', \n",
    "          fontsize=12, \n",
    "          labelpad=15)\n",
    "\n",
    "plt.yticks([])\n",
    "plt.axis('on')\n",
    "\n",
    "# Добавление текстовых меток\n",
    "plt.text(np.mean(x1), 1.1, \"Точный интервал\", \n",
    "         ha='center', va='bottom', \n",
    "         color='#1f77b4', fontsize=12)\n",
    "\n",
    "plt.text(np.mean(x2), 2.1, \"Асимптотический интервал\", \n",
    "         ha='center', va='bottom', \n",
    "         color='#ff7f0e', fontsize=12)\n",
    "\n",
    "plt.text(np.mean(x3), 3.1, \"Бутстрап-интервал\", \n",
    "         ha='center', va='bottom', \n",
    "         color='#2ca02c', fontsize=12)\n",
    "\n",
    "# Настройка легенды\n",
    "plt.legend(\n",
    "    loc='upper right',\n",
    "    bbox_to_anchor=(1.05, 1),\n",
    "    fontsize=12,\n",
    "    frameon=False\n",
    ")\n",
    "\n",
    "plt.tight_layout()\n",
    "plt.show()"
   ]
  }
 ],
 "metadata": {
  "kernelspec": {
   "display_name": "Python 3",
   "language": "python",
   "name": "python3"
  },
  "language_info": {
   "codemirror_mode": {
    "name": "ipython",
    "version": 3
   },
   "file_extension": ".py",
   "mimetype": "text/x-python",
   "name": "python",
   "nbconvert_exporter": "python",
   "pygments_lexer": "ipython3",
   "version": "3.9.6"
  }
 },
 "nbformat": 4,
 "nbformat_minor": 2
}
